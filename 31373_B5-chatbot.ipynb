{
 "cells": [
  {
   "cell_type": "markdown",
   "id": "c42ceb2f",
   "metadata": {},
   "source": [
    "### Name: Shreyash Shinkar\n",
    "### Roll no: 31373\n",
    "### Lab Practice: AI Assignment B2 \n",
    "### Develop an elementary chatbot for any suitable customer interaction application.\n",
    "### Student Information Bot"
   ]
  },
  {
   "cell_type": "code",
   "execution_count": 1,
   "id": "437e1acc",
   "metadata": {},
   "outputs": [
    {
     "name": "stdout",
     "output_type": "stream",
     "text": [
      "BOT: What do you want me to call you?\n",
      "Luffy\n"
     ]
    }
   ],
   "source": [
    "import random\n",
    "print(\"BOT: What do you want me to call you?\")\n",
    "user_name = input()"
   ]
  },
  {
   "cell_type": "code",
   "execution_count": 2,
   "id": "6adad0b9",
   "metadata": {},
   "outputs": [],
   "source": [
    "name = \"Shreyash\"\n",
    "college = \"PICT\"\n",
    "year = \"Third Year\"\n",
    "branch = \"Computer Engineering\"\n",
    "division = \"TE 3\"\n",
    "clubs = \"Art Circle\""
   ]
  },
  {
   "cell_type": "code",
   "execution_count": 3,
   "id": "cbc6e631",
   "metadata": {},
   "outputs": [],
   "source": [
    "bot_template = name + \" : {0}\"\n",
    "user_template = user_name + \" : {0}\""
   ]
  },
  {
   "cell_type": "code",
   "execution_count": 4,
   "id": "473b931d",
   "metadata": {},
   "outputs": [],
   "source": [
    "responses = { \n",
    "    \"what's your name?\": [ \n",
    "    \"My name is {0}\".format(name), \n",
    "    \"I'm {0}, what's your name?\".format(name), \n",
    "    \"My name is {0}\".format(name) ],\n",
    "\n",
    "    \"which college are you in?\": [ \n",
    "    \"My college is {0}\".format(college), \n",
    "    \"I am in {0}\".format(college), \n",
    "    \"I study in {0}\".format(college) ],\n",
    "\n",
    "    \"which year are you studying in?\": [ \n",
    "    \"I am in my {0} of Engineering\".format(year), \n",
    "    \"I am in the {0}\".format(year), \n",
    "    \"I'm currenly in the {0}\".format(year) ],\n",
    "\n",
    "    \"what branch do you study in?\": [ \n",
    "    \"I am studying {0}\".format(branch), \n",
    "    \"{0}! How about you?\".format(branch), \n",
    "    \"I study {0}! How about yourself?\".format(branch), ],\n",
    "    \n",
    "    \"which division are you in?\": [ \n",
    "    \"I am in {0}\".format(division), \n",
    "    \"{0}! What about you?\".format(division), \n",
    "    \"I'm in {0}! How about yourself?\".format(division), ],\n",
    "    \n",
    "    \"which college clubs are you a part of?\": [ \n",
    "    \"I am a part of {0}\".format(clubs), \n",
    "    \"{0}! What about you? Are you a part of any club\".format(clubs), \n",
    "    \"I'm in the {0} of my college! How about you?\".format(clubs), ],\n",
    "\n",
    "    \"\": [ \n",
    "    \"Hey! I didn't understand you\",\n",
    "    \"okay!\",\n",
    "    \"What do you mean by saying nothing?\", ],\n",
    "\n",
    "    \"default\": [\n",
    "    \"this is a default message\"]\n",
    "}"
   ]
  },
  {
   "cell_type": "code",
   "execution_count": 5,
   "id": "89a8c869",
   "metadata": {},
   "outputs": [],
   "source": [
    "def respond(message):\n",
    "    \n",
    "    if message in responses: \n",
    "        bot_message = random.choice(responses[message])\n",
    "    \n",
    "    else: \n",
    "        bot_message = random.choice(responses[\"default\"])\n",
    "    \n",
    "    return bot_message"
   ]
  },
  {
   "cell_type": "code",
   "execution_count": 6,
   "id": "f385c6fc",
   "metadata": {},
   "outputs": [],
   "source": [
    "def related(x_text): \n",
    "    if \"name\" in x_text: \n",
    "        y_text = \"what's your name?\"\n",
    "    \n",
    "    elif \"college\" in x_text: \n",
    "        y_text = \"which college are you in?\"\n",
    "    \n",
    "    elif \"year\" in x_text: \n",
    "        y_text = \"which year are you studying in?\"\n",
    "    \n",
    "    elif \"branch\" in x_text: \n",
    "        y_text = \"what branch do you study in?\"\n",
    "    \n",
    "    elif \"division\" in x_text: \n",
    "        y_text = \"which division are you in?\"\n",
    "        \n",
    "    elif \"clubs\" in x_text: \n",
    "        y_text = \"which college clubs are you a part of?\"\n",
    "    \n",
    "    else: \n",
    "        y_text = \"\"\n",
    "    \n",
    "    return y_text"
   ]
  },
  {
   "cell_type": "code",
   "execution_count": 7,
   "id": "9190f0a5",
   "metadata": {},
   "outputs": [],
   "source": [
    "def send_message(message): \n",
    "    print(user_template.format(message)) \n",
    "    response = respond(message) \n",
    "    print(bot_template.format(response))"
   ]
  },
  {
   "cell_type": "code",
   "execution_count": 8,
   "id": "4bdda93f",
   "metadata": {
    "scrolled": false
   },
   "outputs": [
    {
     "name": "stdout",
     "output_type": "stream",
     "text": [
      "Hello!\n",
      "Luffy : \n",
      "Shreyash : Hey! I didn't understand you\n",
      "What's your name?\n",
      "Luffy : what's your name?\n",
      "Shreyash : My name is Shreyash\n",
      "Which college do you o to?\n",
      "Luffy : which college are you in?\n",
      "Shreyash : I am in PICT\n",
      "Which branch do o=you study in?\n",
      "Luffy : what branch do you study in?\n",
      "Shreyash : Computer Engineering! How about you?\n",
      "What is your division number?\n",
      "Luffy : which division are you in?\n",
      "Shreyash : I'm in TE 3! How about yourself?\n",
      "Are you a part of any college clubs?\n",
      "Luffy : which college are you in?\n",
      "Shreyash : I study in PICT\n",
      "Are you a part of any clubs?\n",
      "Luffy : which college clubs are you a part of?\n",
      "Shreyash : I'm in the Art Circle of my college! How about you?\n",
      "exit\n",
      "Luffy : \n",
      "Shreyash : okay!\n"
     ]
    }
   ],
   "source": [
    "while 1: \n",
    "    my_input = input() \n",
    "    my_input = my_input.lower() \n",
    "    related_text = related(my_input) \n",
    "    send_message(related_text)\n",
    "    \n",
    "    if (my_input == \"exit\" or my_input == \"stop\"): \n",
    "        break"
   ]
  },
  {
   "cell_type": "markdown",
   "id": "6defeaff",
   "metadata": {},
   "source": [
    "##### Referenced article link: https://towardsdatascience.com/building-a-chatbot-in-python-the-beginners-guide-2743ad2b4851"
   ]
  }
 ],
 "metadata": {
  "kernelspec": {
   "display_name": "Python 3 (ipykernel)",
   "language": "python",
   "name": "python3"
  },
  "language_info": {
   "codemirror_mode": {
    "name": "ipython",
    "version": 3
   },
   "file_extension": ".py",
   "mimetype": "text/x-python",
   "name": "python",
   "nbconvert_exporter": "python",
   "pygments_lexer": "ipython3",
   "version": "3.8.5"
  }
 },
 "nbformat": 4,
 "nbformat_minor": 5
}
